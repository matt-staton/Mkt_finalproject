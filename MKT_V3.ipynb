{
 "cells": [
  {
   "cell_type": "code",
   "execution_count": 17,
   "metadata": {
    "collapsed": true
   },
   "outputs": [],
   "source": [
    "import pandas as pd\n",
    "data = pd.read_excel('classproject.xlsx')\n",
    "data.drop('respid',axis=1,inplace=True)\n",
    "data.drop('brand',axis=1,inplace=True)"
   ]
  },
  {
   "cell_type": "code",
   "execution_count": 18,
   "metadata": {
    "collapsed": true
   },
   "outputs": [],
   "source": [
    "data.columns=['a1','a2','a3','h1','h2','h3','h4','f1','f2','f3','f4']"
   ]
  },
  {
   "cell_type": "code",
   "execution_count": 19,
   "metadata": {
    "collapsed": true
   },
   "outputs": [],
   "source": [
    "df_combined = data[['h1','h2','h3','h4','f1','f2','f3','f4']]"
   ]
  },
  {
   "cell_type": "code",
   "execution_count": 20,
   "metadata": {
    "collapsed": true
   },
   "outputs": [],
   "source": [
    "df_affect =  data[['a1','a2','a3']]"
   ]
  },
  {
   "cell_type": "code",
   "execution_count": 21,
   "metadata": {
    "collapsed": true
   },
   "outputs": [],
   "source": [
    "import statsmodels.api as sm\n",
    "from patsy import dmatrices"
   ]
  },
  {
   "cell_type": "code",
   "execution_count": 22,
   "metadata": {
    "collapsed": false
   },
   "outputs": [
    {
     "name": "stdout",
     "output_type": "stream",
     "text": [
      "                            OLS Regression Results                            \n",
      "==============================================================================\n",
      "Dep. Variable:                     a1   R-squared:                       0.398\n",
      "Model:                            OLS   Adj. R-squared:                  0.368\n",
      "Method:                 Least Squares   F-statistic:                     13.62\n",
      "Date:                Thu, 10 Nov 2016   Prob (F-statistic):           4.57e-15\n",
      "Time:                        22:03:11   Log-Likelihood:                -193.24\n",
      "No. Observations:                 174   AIC:                             404.5\n",
      "Df Residuals:                     165   BIC:                             432.9\n",
      "Df Model:                           8                                         \n",
      "Covariance Type:            nonrobust                                         \n",
      "==============================================================================\n",
      "                 coef    std err          t      P>|t|      [95.0% Conf. Int.]\n",
      "------------------------------------------------------------------------------\n",
      "Intercept      0.5837      0.406      1.437      0.153        -0.218     1.386\n",
      "h1             0.3694      0.098      3.760      0.000         0.175     0.563\n",
      "f1             0.1564      0.109      1.429      0.155        -0.060     0.373\n",
      "h2             0.1335      0.098      1.364      0.174        -0.060     0.327\n",
      "f2             0.0095      0.097      0.098      0.922        -0.181     0.200\n",
      "h3            -0.0796      0.121     -0.657      0.512        -0.319     0.159\n",
      "f3            -0.0646      0.096     -0.675      0.501        -0.254     0.124\n",
      "h4             0.2839      0.122      2.322      0.021         0.043     0.525\n",
      "f4             0.0490      0.097      0.507      0.613        -0.142     0.240\n",
      "==============================================================================\n",
      "Omnibus:                       86.079   Durbin-Watson:                   2.071\n",
      "Prob(Omnibus):                  0.000   Jarque-Bera (JB):              434.121\n",
      "Skew:                          -1.825   Prob(JB):                     5.39e-95\n",
      "Kurtosis:                       9.823   Cond. No.                         89.3\n",
      "==============================================================================\n",
      "\n",
      "Warnings:\n",
      "[1] Standard Errors assume that the covariance matrix of the errors is correctly specified.\n"
     ]
    }
   ],
   "source": [
    "y, X = dmatrices('a1 ~ h1 + f1 + h2 + f2 + h3 + f3 + h4 + f4', data=data, return_type='dataframe')\n",
    "model = sm.OLS(y, X)       \n",
    "result = model.fit()\n",
    "print result.summary()"
   ]
  },
  {
   "cell_type": "code",
   "execution_count": 23,
   "metadata": {
    "collapsed": false
   },
   "outputs": [
    {
     "data": {
      "text/html": [
       "<div>\n",
       "<table border=\"1\" class=\"dataframe\">\n",
       "  <thead>\n",
       "    <tr style=\"text-align: right;\">\n",
       "      <th></th>\n",
       "      <th>h1</th>\n",
       "      <th>h2</th>\n",
       "      <th>h3</th>\n",
       "      <th>h4</th>\n",
       "      <th>f1</th>\n",
       "      <th>f2</th>\n",
       "      <th>f3</th>\n",
       "      <th>f4</th>\n",
       "    </tr>\n",
       "  </thead>\n",
       "  <tbody>\n",
       "    <tr>\n",
       "      <th>h1</th>\n",
       "      <td>1.000000</td>\n",
       "      <td>0.659418</td>\n",
       "      <td>0.635100</td>\n",
       "      <td>0.588408</td>\n",
       "      <td>0.479600</td>\n",
       "      <td>0.504713</td>\n",
       "      <td>0.493845</td>\n",
       "      <td>0.513841</td>\n",
       "    </tr>\n",
       "    <tr>\n",
       "      <th>h2</th>\n",
       "      <td>0.659418</td>\n",
       "      <td>1.000000</td>\n",
       "      <td>0.659417</td>\n",
       "      <td>0.550699</td>\n",
       "      <td>0.485731</td>\n",
       "      <td>0.538479</td>\n",
       "      <td>0.474419</td>\n",
       "      <td>0.462089</td>\n",
       "    </tr>\n",
       "    <tr>\n",
       "      <th>h3</th>\n",
       "      <td>0.635100</td>\n",
       "      <td>0.659417</td>\n",
       "      <td>1.000000</td>\n",
       "      <td>0.775216</td>\n",
       "      <td>0.316749</td>\n",
       "      <td>0.529213</td>\n",
       "      <td>0.475794</td>\n",
       "      <td>0.527649</td>\n",
       "    </tr>\n",
       "    <tr>\n",
       "      <th>h4</th>\n",
       "      <td>0.588408</td>\n",
       "      <td>0.550699</td>\n",
       "      <td>0.775216</td>\n",
       "      <td>1.000000</td>\n",
       "      <td>0.413605</td>\n",
       "      <td>0.489485</td>\n",
       "      <td>0.508469</td>\n",
       "      <td>0.602511</td>\n",
       "    </tr>\n",
       "    <tr>\n",
       "      <th>f1</th>\n",
       "      <td>0.479600</td>\n",
       "      <td>0.485731</td>\n",
       "      <td>0.316749</td>\n",
       "      <td>0.413605</td>\n",
       "      <td>1.000000</td>\n",
       "      <td>0.546758</td>\n",
       "      <td>0.654563</td>\n",
       "      <td>0.509155</td>\n",
       "    </tr>\n",
       "    <tr>\n",
       "      <th>f2</th>\n",
       "      <td>0.504713</td>\n",
       "      <td>0.538479</td>\n",
       "      <td>0.529213</td>\n",
       "      <td>0.489485</td>\n",
       "      <td>0.546758</td>\n",
       "      <td>1.000000</td>\n",
       "      <td>0.527263</td>\n",
       "      <td>0.486479</td>\n",
       "    </tr>\n",
       "    <tr>\n",
       "      <th>f3</th>\n",
       "      <td>0.493845</td>\n",
       "      <td>0.474419</td>\n",
       "      <td>0.475794</td>\n",
       "      <td>0.508469</td>\n",
       "      <td>0.654563</td>\n",
       "      <td>0.527263</td>\n",
       "      <td>1.000000</td>\n",
       "      <td>0.640987</td>\n",
       "    </tr>\n",
       "    <tr>\n",
       "      <th>f4</th>\n",
       "      <td>0.513841</td>\n",
       "      <td>0.462089</td>\n",
       "      <td>0.527649</td>\n",
       "      <td>0.602511</td>\n",
       "      <td>0.509155</td>\n",
       "      <td>0.486479</td>\n",
       "      <td>0.640987</td>\n",
       "      <td>1.000000</td>\n",
       "    </tr>\n",
       "  </tbody>\n",
       "</table>\n",
       "</div>"
      ],
      "text/plain": [
       "          h1        h2        h3        h4        f1        f2        f3  \\\n",
       "h1  1.000000  0.659418  0.635100  0.588408  0.479600  0.504713  0.493845   \n",
       "h2  0.659418  1.000000  0.659417  0.550699  0.485731  0.538479  0.474419   \n",
       "h3  0.635100  0.659417  1.000000  0.775216  0.316749  0.529213  0.475794   \n",
       "h4  0.588408  0.550699  0.775216  1.000000  0.413605  0.489485  0.508469   \n",
       "f1  0.479600  0.485731  0.316749  0.413605  1.000000  0.546758  0.654563   \n",
       "f2  0.504713  0.538479  0.529213  0.489485  0.546758  1.000000  0.527263   \n",
       "f3  0.493845  0.474419  0.475794  0.508469  0.654563  0.527263  1.000000   \n",
       "f4  0.513841  0.462089  0.527649  0.602511  0.509155  0.486479  0.640987   \n",
       "\n",
       "          f4  \n",
       "h1  0.513841  \n",
       "h2  0.462089  \n",
       "h3  0.527649  \n",
       "h4  0.602511  \n",
       "f1  0.509155  \n",
       "f2  0.486479  \n",
       "f3  0.640987  \n",
       "f4  1.000000  "
      ]
     },
     "execution_count": 23,
     "metadata": {},
     "output_type": "execute_result"
    }
   ],
   "source": [
    "df_combined.corr()"
   ]
  },
  {
   "cell_type": "markdown",
   "metadata": {},
   "source": [
    "### without standardization "
   ]
  },
  {
   "cell_type": "code",
   "execution_count": 24,
   "metadata": {
    "collapsed": false
   },
   "outputs": [
    {
     "data": {
      "text/html": [
       "<div>\n",
       "<table border=\"1\" class=\"dataframe\">\n",
       "  <thead>\n",
       "    <tr style=\"text-align: right;\">\n",
       "      <th></th>\n",
       "      <th>h1</th>\n",
       "      <th>h2</th>\n",
       "      <th>h3</th>\n",
       "      <th>h4</th>\n",
       "      <th>f1</th>\n",
       "      <th>f2</th>\n",
       "      <th>f3</th>\n",
       "      <th>f4</th>\n",
       "    </tr>\n",
       "  </thead>\n",
       "  <tbody>\n",
       "    <tr>\n",
       "      <th>0</th>\n",
       "      <td>5</td>\n",
       "      <td>4</td>\n",
       "      <td>5</td>\n",
       "      <td>5</td>\n",
       "      <td>5</td>\n",
       "      <td>4</td>\n",
       "      <td>4</td>\n",
       "      <td>5</td>\n",
       "    </tr>\n",
       "    <tr>\n",
       "      <th>1</th>\n",
       "      <td>5</td>\n",
       "      <td>5</td>\n",
       "      <td>5</td>\n",
       "      <td>5</td>\n",
       "      <td>5</td>\n",
       "      <td>4</td>\n",
       "      <td>5</td>\n",
       "      <td>4</td>\n",
       "    </tr>\n",
       "    <tr>\n",
       "      <th>2</th>\n",
       "      <td>4</td>\n",
       "      <td>4</td>\n",
       "      <td>3</td>\n",
       "      <td>3</td>\n",
       "      <td>5</td>\n",
       "      <td>4</td>\n",
       "      <td>3</td>\n",
       "      <td>3</td>\n",
       "    </tr>\n",
       "    <tr>\n",
       "      <th>3</th>\n",
       "      <td>4</td>\n",
       "      <td>4</td>\n",
       "      <td>3</td>\n",
       "      <td>3</td>\n",
       "      <td>4</td>\n",
       "      <td>3</td>\n",
       "      <td>4</td>\n",
       "      <td>4</td>\n",
       "    </tr>\n",
       "    <tr>\n",
       "      <th>4</th>\n",
       "      <td>3</td>\n",
       "      <td>3</td>\n",
       "      <td>3</td>\n",
       "      <td>3</td>\n",
       "      <td>3</td>\n",
       "      <td>3</td>\n",
       "      <td>3</td>\n",
       "      <td>3</td>\n",
       "    </tr>\n",
       "  </tbody>\n",
       "</table>\n",
       "</div>"
      ],
      "text/plain": [
       "   h1  h2  h3  h4  f1  f2  f3  f4\n",
       "0   5   4   5   5   5   4   4   5\n",
       "1   5   5   5   5   5   4   5   4\n",
       "2   4   4   3   3   5   4   3   3\n",
       "3   4   4   3   3   4   3   4   4\n",
       "4   3   3   3   3   3   3   3   3"
      ]
     },
     "execution_count": 24,
     "metadata": {},
     "output_type": "execute_result"
    }
   ],
   "source": [
    "df_combined.head()"
   ]
  },
  {
   "cell_type": "code",
   "execution_count": 25,
   "metadata": {
    "collapsed": false
   },
   "outputs": [
    {
     "name": "stdout",
     "output_type": "stream",
     "text": [
      "5.85417492403 \n",
      "\n",
      "[0.6, 0.116, 0.078, 0.057, 0.046, 0.043, 0.038, 0.021]\n"
     ]
    }
   ],
   "source": [
    "from sklearn.decomposition import PCA\n",
    "\n",
    "pca = PCA(n_components=8)\n",
    "\n",
    "pca_combined = pca.fit(df_combined)\n",
    "\n",
    "print pca_combined.explained_variance_.sum(),'\\n'\n",
    "print map(float,map(lambda n: \"%.3f\" % n,pca_combined.explained_variance_ratio_))"
   ]
  },
  {
   "cell_type": "code",
   "execution_count": 26,
   "metadata": {
    "collapsed": true
   },
   "outputs": [],
   "source": [
    "score = [item[0] for item in pca_combined.fit_transform(df_combined)]"
   ]
  },
  {
   "cell_type": "code",
   "execution_count": 27,
   "metadata": {
    "collapsed": true
   },
   "outputs": [],
   "source": [
    "dehalo = df_combined - (score * pca_combined.components_[0].reshape(8,1)).T"
   ]
  },
  {
   "cell_type": "code",
   "execution_count": 28,
   "metadata": {
    "collapsed": false
   },
   "outputs": [
    {
     "data": {
      "text/html": [
       "<div>\n",
       "<table border=\"1\" class=\"dataframe\">\n",
       "  <thead>\n",
       "    <tr style=\"text-align: right;\">\n",
       "      <th></th>\n",
       "      <th>h1</th>\n",
       "      <th>h2</th>\n",
       "      <th>h3</th>\n",
       "      <th>h4</th>\n",
       "      <th>f1</th>\n",
       "      <th>f2</th>\n",
       "      <th>f3</th>\n",
       "      <th>f4</th>\n",
       "    </tr>\n",
       "  </thead>\n",
       "  <tbody>\n",
       "    <tr>\n",
       "      <th>0</th>\n",
       "      <td>4.704604</td>\n",
       "      <td>3.697246</td>\n",
       "      <td>4.691550</td>\n",
       "      <td>4.724796</td>\n",
       "      <td>4.771609</td>\n",
       "      <td>3.747521</td>\n",
       "      <td>3.696267</td>\n",
       "      <td>4.718013</td>\n",
       "    </tr>\n",
       "    <tr>\n",
       "      <th>1</th>\n",
       "      <td>4.554236</td>\n",
       "      <td>4.543131</td>\n",
       "      <td>4.534537</td>\n",
       "      <td>4.584706</td>\n",
       "      <td>4.655349</td>\n",
       "      <td>3.618999</td>\n",
       "      <td>4.541654</td>\n",
       "      <td>3.574471</td>\n",
       "    </tr>\n",
       "    <tr>\n",
       "      <th>2</th>\n",
       "      <td>4.784478</td>\n",
       "      <td>4.804020</td>\n",
       "      <td>3.819144</td>\n",
       "      <td>3.730855</td>\n",
       "      <td>5.606534</td>\n",
       "      <td>4.670504</td>\n",
       "      <td>3.806619</td>\n",
       "      <td>3.748867</td>\n",
       "    </tr>\n",
       "    <tr>\n",
       "      <th>3</th>\n",
       "      <td>4.735892</td>\n",
       "      <td>4.754224</td>\n",
       "      <td>3.768412</td>\n",
       "      <td>3.685590</td>\n",
       "      <td>4.568969</td>\n",
       "      <td>3.628977</td>\n",
       "      <td>4.756662</td>\n",
       "      <td>4.702487</td>\n",
       "    </tr>\n",
       "    <tr>\n",
       "      <th>4</th>\n",
       "      <td>4.390311</td>\n",
       "      <td>4.424945</td>\n",
       "      <td>4.451749</td>\n",
       "      <td>4.295276</td>\n",
       "      <td>4.074946</td>\n",
       "      <td>4.188318</td>\n",
       "      <td>4.429552</td>\n",
       "      <td>4.327199</td>\n",
       "    </tr>\n",
       "  </tbody>\n",
       "</table>\n",
       "</div>"
      ],
      "text/plain": [
       "         h1        h2        h3        h4        f1        f2        f3  \\\n",
       "0  4.704604  3.697246  4.691550  4.724796  4.771609  3.747521  3.696267   \n",
       "1  4.554236  4.543131  4.534537  4.584706  4.655349  3.618999  4.541654   \n",
       "2  4.784478  4.804020  3.819144  3.730855  5.606534  4.670504  3.806619   \n",
       "3  4.735892  4.754224  3.768412  3.685590  4.568969  3.628977  4.756662   \n",
       "4  4.390311  4.424945  4.451749  4.295276  4.074946  4.188318  4.429552   \n",
       "\n",
       "         f4  \n",
       "0  4.718013  \n",
       "1  3.574471  \n",
       "2  3.748867  \n",
       "3  4.702487  \n",
       "4  4.327199  "
      ]
     },
     "execution_count": 28,
     "metadata": {},
     "output_type": "execute_result"
    }
   ],
   "source": [
    "dehalo.head()"
   ]
  },
  {
   "cell_type": "code",
   "execution_count": 29,
   "metadata": {
    "collapsed": false
   },
   "outputs": [],
   "source": [
    "dehalo_affect = dehalo"
   ]
  },
  {
   "cell_type": "code",
   "execution_count": 30,
   "metadata": {
    "collapsed": false
   },
   "outputs": [
    {
     "data": {
      "text/html": [
       "<div>\n",
       "<table border=\"1\" class=\"dataframe\">\n",
       "  <thead>\n",
       "    <tr style=\"text-align: right;\">\n",
       "      <th></th>\n",
       "      <th>h1</th>\n",
       "      <th>h2</th>\n",
       "      <th>h3</th>\n",
       "      <th>h4</th>\n",
       "      <th>f1</th>\n",
       "      <th>f2</th>\n",
       "      <th>f3</th>\n",
       "      <th>f4</th>\n",
       "      <th>a1</th>\n",
       "    </tr>\n",
       "  </thead>\n",
       "  <tbody>\n",
       "    <tr>\n",
       "      <th>0</th>\n",
       "      <td>4.704604</td>\n",
       "      <td>3.697246</td>\n",
       "      <td>4.691550</td>\n",
       "      <td>4.724796</td>\n",
       "      <td>4.771609</td>\n",
       "      <td>3.747521</td>\n",
       "      <td>3.696267</td>\n",
       "      <td>4.718013</td>\n",
       "      <td>5</td>\n",
       "    </tr>\n",
       "    <tr>\n",
       "      <th>1</th>\n",
       "      <td>4.554236</td>\n",
       "      <td>4.543131</td>\n",
       "      <td>4.534537</td>\n",
       "      <td>4.584706</td>\n",
       "      <td>4.655349</td>\n",
       "      <td>3.618999</td>\n",
       "      <td>4.541654</td>\n",
       "      <td>3.574471</td>\n",
       "      <td>5</td>\n",
       "    </tr>\n",
       "    <tr>\n",
       "      <th>2</th>\n",
       "      <td>4.784478</td>\n",
       "      <td>4.804020</td>\n",
       "      <td>3.819144</td>\n",
       "      <td>3.730855</td>\n",
       "      <td>5.606534</td>\n",
       "      <td>4.670504</td>\n",
       "      <td>3.806619</td>\n",
       "      <td>3.748867</td>\n",
       "      <td>5</td>\n",
       "    </tr>\n",
       "    <tr>\n",
       "      <th>3</th>\n",
       "      <td>4.735892</td>\n",
       "      <td>4.754224</td>\n",
       "      <td>3.768412</td>\n",
       "      <td>3.685590</td>\n",
       "      <td>4.568969</td>\n",
       "      <td>3.628977</td>\n",
       "      <td>4.756662</td>\n",
       "      <td>4.702487</td>\n",
       "      <td>4</td>\n",
       "    </tr>\n",
       "    <tr>\n",
       "      <th>4</th>\n",
       "      <td>4.390311</td>\n",
       "      <td>4.424945</td>\n",
       "      <td>4.451749</td>\n",
       "      <td>4.295276</td>\n",
       "      <td>4.074946</td>\n",
       "      <td>4.188318</td>\n",
       "      <td>4.429552</td>\n",
       "      <td>4.327199</td>\n",
       "      <td>4</td>\n",
       "    </tr>\n",
       "  </tbody>\n",
       "</table>\n",
       "</div>"
      ],
      "text/plain": [
       "         h1        h2        h3        h4        f1        f2        f3  \\\n",
       "0  4.704604  3.697246  4.691550  4.724796  4.771609  3.747521  3.696267   \n",
       "1  4.554236  4.543131  4.534537  4.584706  4.655349  3.618999  4.541654   \n",
       "2  4.784478  4.804020  3.819144  3.730855  5.606534  4.670504  3.806619   \n",
       "3  4.735892  4.754224  3.768412  3.685590  4.568969  3.628977  4.756662   \n",
       "4  4.390311  4.424945  4.451749  4.295276  4.074946  4.188318  4.429552   \n",
       "\n",
       "         f4  a1  \n",
       "0  4.718013   5  \n",
       "1  3.574471   5  \n",
       "2  3.748867   5  \n",
       "3  4.702487   4  \n",
       "4  4.327199   4  "
      ]
     },
     "execution_count": 30,
     "metadata": {},
     "output_type": "execute_result"
    }
   ],
   "source": [
    "dehalo_affect['a1'] = df_affect['a1']\n",
    "dehalo_affect.head()"
   ]
  },
  {
   "cell_type": "code",
   "execution_count": 31,
   "metadata": {
    "collapsed": false
   },
   "outputs": [
    {
     "name": "stdout",
     "output_type": "stream",
     "text": [
      "                            OLS Regression Results                            \n",
      "==============================================================================\n",
      "Dep. Variable:                     a1   R-squared:                       0.057\n",
      "Model:                            OLS   Adj. R-squared:                  0.017\n",
      "Method:                 Least Squares   F-statistic:                     1.433\n",
      "Date:                Thu, 10 Nov 2016   Prob (F-statistic):              0.195\n",
      "Time:                        22:03:12   Log-Likelihood:                -232.24\n",
      "No. Observations:                 174   AIC:                             480.5\n",
      "Df Residuals:                     166   BIC:                             505.8\n",
      "Df Model:                           7                                         \n",
      "Covariance Type:            nonrobust                                         \n",
      "==============================================================================\n",
      "                 coef    std err          t      P>|t|      [95.0% Conf. Int.]\n",
      "------------------------------------------------------------------------------\n",
      "Intercept      0.0279      0.001     20.750      0.000         0.025     0.031\n",
      "h1             0.3863      0.123      3.152      0.002         0.144     0.628\n",
      "f1             0.1694      0.133      1.276      0.204        -0.093     0.432\n",
      "h2             0.1508      0.123      1.227      0.221        -0.092     0.393\n",
      "f2             0.0239      0.119      0.201      0.841        -0.211     0.258\n",
      "h3            -0.0620      0.151     -0.409      0.683        -0.361     0.237\n",
      "f3            -0.0473      0.122     -0.387      0.699        -0.288     0.194\n",
      "h4             0.2996      0.151      1.989      0.048         0.002     0.597\n",
      "f4             0.0651      0.120      0.543      0.588        -0.172     0.302\n",
      "==============================================================================\n",
      "Omnibus:                       61.264   Durbin-Watson:                   2.031\n",
      "Prob(Omnibus):                  0.000   Jarque-Bera (JB):              131.075\n",
      "Skew:                          -1.627   Prob(JB):                     3.45e-29\n",
      "Kurtosis:                       5.737   Cond. No.                     9.00e+16\n",
      "==============================================================================\n",
      "\n",
      "Warnings:\n",
      "[1] Standard Errors assume that the covariance matrix of the errors is correctly specified.\n",
      "[2] The smallest eigenvalue is 3.27e-30. This might indicate that there are\n",
      "strong multicollinearity problems or that the design matrix is singular.\n"
     ]
    }
   ],
   "source": [
    "y,X = dmatrices('a1 ~ h1 + f1 + h2 + f2 + h3 + f3 + h4 + f4', data=dehalo_affect, return_type='dataframe')\n",
    "model = sm.OLS(y, X)       \n",
    "result = model.fit()\n",
    "print result.summary()"
   ]
  },
  {
   "cell_type": "code",
   "execution_count": 32,
   "metadata": {
    "collapsed": false
   },
   "outputs": [
    {
     "name": "stdout",
     "output_type": "stream",
     "text": [
      "3.23977438607 \n",
      "\n",
      "[0.289, 0.204, 0.14, 0.101, 0.082, 0.077, 0.067, 0.038]\n"
     ]
    }
   ],
   "source": [
    "pca = PCA(n_components=8)\n",
    "\n",
    "pca_dehalo = pca.fit(dehalo)\n",
    "\n",
    "print pca_dehalo.explained_variance_.sum(),'\\n'\n",
    "\n",
    "print map(float,map(lambda n: \"%.3f\" % n, pca_dehalo.explained_variance_ratio_))"
   ]
  },
  {
   "cell_type": "code",
   "execution_count": 33,
   "metadata": {
    "collapsed": false
   },
   "outputs": [],
   "source": [
    "data2 = pd.concat([df_affect,dehalo],axis=1)"
   ]
  },
  {
   "cell_type": "code",
   "execution_count": 34,
   "metadata": {
    "collapsed": false
   },
   "outputs": [
    {
     "name": "stdout",
     "output_type": "stream",
     "text": [
      "                            OLS Regression Results                            \n",
      "==============================================================================\n",
      "Dep. Variable:                     a3   R-squared:                       0.078\n",
      "Model:                            OLS   Adj. R-squared:                  0.067\n",
      "Method:                 Least Squares   F-statistic:                     7.194\n",
      "Date:                Thu, 10 Nov 2016   Prob (F-statistic):            0.00100\n",
      "Time:                        22:03:12   Log-Likelihood:                -238.86\n",
      "No. Observations:                 174   AIC:                             483.7\n",
      "Df Residuals:                     171   BIC:                             493.2\n",
      "Df Model:                           2                                         \n",
      "Covariance Type:            nonrobust                                         \n",
      "==============================================================================\n",
      "                 coef    std err          t      P>|t|      [95.0% Conf. Int.]\n",
      "------------------------------------------------------------------------------\n",
      "Intercept      1.4898      0.405      3.680      0.000         0.691     2.289\n",
      "h3             0.1822      0.093      1.956      0.052        -0.002     0.366\n",
      "f3             0.1739      0.090      1.928      0.056        -0.004     0.352\n",
      "==============================================================================\n",
      "Omnibus:                        9.679   Durbin-Watson:                   2.047\n",
      "Prob(Omnibus):                  0.008   Jarque-Bera (JB):                9.350\n",
      "Skew:                          -0.515   Prob(JB):                      0.00933\n",
      "Kurtosis:                       2.521   Cond. No.                         34.7\n",
      "==============================================================================\n",
      "\n",
      "Warnings:\n",
      "[1] Standard Errors assume that the covariance matrix of the errors is correctly specified.\n"
     ]
    }
   ],
   "source": [
    "y, X = dmatrices('a3 ~ h3 + f3', data=data, return_type='dataframe')\n",
    "model = sm.OLS(y, X)       \n",
    "result = model.fit()\n",
    "print result.summary()"
   ]
  },
  {
   "cell_type": "code",
   "execution_count": 35,
   "metadata": {
    "collapsed": false
   },
   "outputs": [
    {
     "name": "stdout",
     "output_type": "stream",
     "text": [
      "                            OLS Regression Results                            \n",
      "==============================================================================\n",
      "Dep. Variable:                     a3   R-squared:                       0.003\n",
      "Model:                            OLS   Adj. R-squared:                 -0.009\n",
      "Method:                 Least Squares   F-statistic:                    0.2224\n",
      "Date:                Thu, 10 Nov 2016   Prob (F-statistic):              0.801\n",
      "Time:                        22:03:12   Log-Likelihood:                -245.66\n",
      "No. Observations:                 174   AIC:                             497.3\n",
      "Df Residuals:                     171   BIC:                             506.8\n",
      "Df Model:                           2                                         \n",
      "Covariance Type:            nonrobust                                         \n",
      "==============================================================================\n",
      "                 coef    std err          t      P>|t|      [95.0% Conf. Int.]\n",
      "------------------------------------------------------------------------------\n",
      "Intercept      3.7082      1.086      3.413      0.001         1.563     5.853\n",
      "h3            -0.1010      0.160     -0.630      0.530        -0.418     0.216\n",
      "f3            -0.0661      0.143     -0.461      0.645        -0.349     0.217\n",
      "==============================================================================\n",
      "Omnibus:                       17.427   Durbin-Watson:                   2.033\n",
      "Prob(Omnibus):                  0.000   Jarque-Bera (JB):               15.761\n",
      "Skew:                          -0.661   Prob(JB):                     0.000378\n",
      "Kurtosis:                       2.348   Cond. No.                         88.4\n",
      "==============================================================================\n",
      "\n",
      "Warnings:\n",
      "[1] Standard Errors assume that the covariance matrix of the errors is correctly specified.\n"
     ]
    }
   ],
   "source": [
    "y, X = dmatrices('a3 ~ h3 + f3', data=data2, return_type='dataframe')\n",
    "model = sm.OLS(y, X)       \n",
    "result = model.fit()\n",
    "print result.summary()"
   ]
  }
 ],
 "metadata": {
  "anaconda-cloud": {},
  "kernelspec": {
   "display_name": "Python [Root]",
   "language": "python",
   "name": "Python [Root]"
  },
  "language_info": {
   "codemirror_mode": {
    "name": "ipython",
    "version": 2
   },
   "file_extension": ".py",
   "mimetype": "text/x-python",
   "name": "python",
   "nbconvert_exporter": "python",
   "pygments_lexer": "ipython2",
   "version": "2.7.12"
  }
 },
 "nbformat": 4,
 "nbformat_minor": 1
}
