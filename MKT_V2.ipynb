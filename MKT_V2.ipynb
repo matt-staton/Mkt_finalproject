{
 "cells": [
  {
   "cell_type": "code",
   "execution_count": 1,
   "metadata": {
    "collapsed": true
   },
   "outputs": [],
   "source": [
    "import pandas as pd\n",
    "data = pd.read_excel('classproject.xlsx')\n",
    "data.drop('respid',axis=1,inplace=True)\n",
    "data.drop('brand',axis=1,inplace=True)"
   ]
  },
  {
   "cell_type": "code",
   "execution_count": 126,
   "metadata": {
    "collapsed": true
   },
   "outputs": [],
   "source": [
    "df_combined = data[['hedonic_1','hedonic 2','hedonic_3','hedonic 4','functional_1','functional_2','functional_3','functional_4']]"
   ]
  },
  {
   "cell_type": "markdown",
   "metadata": {},
   "source": [
    "### without standardization "
   ]
  },
  {
   "cell_type": "code",
   "execution_count": 127,
   "metadata": {
    "collapsed": false
   },
   "outputs": [
    {
     "data": {
      "text/html": [
       "<div>\n",
       "<table border=\"1\" class=\"dataframe\">\n",
       "  <thead>\n",
       "    <tr style=\"text-align: right;\">\n",
       "      <th></th>\n",
       "      <th>hedonic_1</th>\n",
       "      <th>hedonic 2</th>\n",
       "      <th>hedonic_3</th>\n",
       "      <th>hedonic 4</th>\n",
       "      <th>functional_1</th>\n",
       "      <th>functional_2</th>\n",
       "      <th>functional_3</th>\n",
       "      <th>functional_4</th>\n",
       "    </tr>\n",
       "  </thead>\n",
       "  <tbody>\n",
       "    <tr>\n",
       "      <th>0</th>\n",
       "      <td>5</td>\n",
       "      <td>4</td>\n",
       "      <td>5</td>\n",
       "      <td>5</td>\n",
       "      <td>5</td>\n",
       "      <td>4</td>\n",
       "      <td>4</td>\n",
       "      <td>5</td>\n",
       "    </tr>\n",
       "    <tr>\n",
       "      <th>1</th>\n",
       "      <td>5</td>\n",
       "      <td>5</td>\n",
       "      <td>5</td>\n",
       "      <td>5</td>\n",
       "      <td>5</td>\n",
       "      <td>4</td>\n",
       "      <td>5</td>\n",
       "      <td>4</td>\n",
       "    </tr>\n",
       "    <tr>\n",
       "      <th>2</th>\n",
       "      <td>4</td>\n",
       "      <td>4</td>\n",
       "      <td>3</td>\n",
       "      <td>3</td>\n",
       "      <td>5</td>\n",
       "      <td>4</td>\n",
       "      <td>3</td>\n",
       "      <td>3</td>\n",
       "    </tr>\n",
       "    <tr>\n",
       "      <th>3</th>\n",
       "      <td>4</td>\n",
       "      <td>4</td>\n",
       "      <td>3</td>\n",
       "      <td>3</td>\n",
       "      <td>4</td>\n",
       "      <td>3</td>\n",
       "      <td>4</td>\n",
       "      <td>4</td>\n",
       "    </tr>\n",
       "    <tr>\n",
       "      <th>4</th>\n",
       "      <td>3</td>\n",
       "      <td>3</td>\n",
       "      <td>3</td>\n",
       "      <td>3</td>\n",
       "      <td>3</td>\n",
       "      <td>3</td>\n",
       "      <td>3</td>\n",
       "      <td>3</td>\n",
       "    </tr>\n",
       "  </tbody>\n",
       "</table>\n",
       "</div>"
      ],
      "text/plain": [
       "   hedonic_1  hedonic 2  hedonic_3  hedonic 4  functional_1  functional_2  \\\n",
       "0          5          4          5          5             5             4   \n",
       "1          5          5          5          5             5             4   \n",
       "2          4          4          3          3             5             4   \n",
       "3          4          4          3          3             4             3   \n",
       "4          3          3          3          3             3             3   \n",
       "\n",
       "   functional_3  functional_4  \n",
       "0             4             5  \n",
       "1             5             4  \n",
       "2             3             3  \n",
       "3             4             4  \n",
       "4             3             3  "
      ]
     },
     "execution_count": 127,
     "metadata": {},
     "output_type": "execute_result"
    }
   ],
   "source": [
    "df_combined.head()"
   ]
  },
  {
   "cell_type": "code",
   "execution_count": 173,
   "metadata": {
    "collapsed": false
   },
   "outputs": [
    {
     "name": "stdout",
     "output_type": "stream",
     "text": [
      "5.85417492403 \n",
      "\n",
      "[0.6, 0.116, 0.078, 0.057, 0.046, 0.043, 0.038, 0.021]\n"
     ]
    }
   ],
   "source": [
    "from sklearn.decomposition import PCA\n",
    "\n",
    "pca = PCA(n_components=8)\n",
    "\n",
    "pca_combined = pca.fit(df_combined)\n",
    "\n",
    "print pca_combined.explained_variance_.sum(),'\\n'\n",
    "print map(float,map(lambda n: \"%.3f\" % n,pca_combined.explained_variance_ratio_))"
   ]
  },
  {
   "cell_type": "code",
   "execution_count": 130,
   "metadata": {
    "collapsed": true
   },
   "outputs": [],
   "source": [
    "score = [item[0] for item in pca_combined.fit_transform(df_combined)]"
   ]
  },
  {
   "cell_type": "code",
   "execution_count": 131,
   "metadata": {
    "collapsed": true
   },
   "outputs": [],
   "source": [
    "dehalo = df_combined - (score * pca_combined.components_[0].reshape(8,1)).T"
   ]
  },
  {
   "cell_type": "code",
   "execution_count": 132,
   "metadata": {
    "collapsed": false
   },
   "outputs": [
    {
     "data": {
      "text/html": [
       "<div>\n",
       "<table border=\"1\" class=\"dataframe\">\n",
       "  <thead>\n",
       "    <tr style=\"text-align: right;\">\n",
       "      <th></th>\n",
       "      <th>hedonic_1</th>\n",
       "      <th>hedonic 2</th>\n",
       "      <th>hedonic_3</th>\n",
       "      <th>hedonic 4</th>\n",
       "      <th>functional_1</th>\n",
       "      <th>functional_2</th>\n",
       "      <th>functional_3</th>\n",
       "      <th>functional_4</th>\n",
       "    </tr>\n",
       "  </thead>\n",
       "  <tbody>\n",
       "    <tr>\n",
       "      <th>0</th>\n",
       "      <td>4.704604</td>\n",
       "      <td>3.697246</td>\n",
       "      <td>4.691550</td>\n",
       "      <td>4.724796</td>\n",
       "      <td>4.771609</td>\n",
       "      <td>3.747521</td>\n",
       "      <td>3.696267</td>\n",
       "      <td>4.718013</td>\n",
       "    </tr>\n",
       "    <tr>\n",
       "      <th>1</th>\n",
       "      <td>4.554236</td>\n",
       "      <td>4.543131</td>\n",
       "      <td>4.534537</td>\n",
       "      <td>4.584706</td>\n",
       "      <td>4.655349</td>\n",
       "      <td>3.618999</td>\n",
       "      <td>4.541654</td>\n",
       "      <td>3.574471</td>\n",
       "    </tr>\n",
       "    <tr>\n",
       "      <th>2</th>\n",
       "      <td>4.784478</td>\n",
       "      <td>4.804020</td>\n",
       "      <td>3.819144</td>\n",
       "      <td>3.730855</td>\n",
       "      <td>5.606534</td>\n",
       "      <td>4.670504</td>\n",
       "      <td>3.806619</td>\n",
       "      <td>3.748867</td>\n",
       "    </tr>\n",
       "    <tr>\n",
       "      <th>3</th>\n",
       "      <td>4.735892</td>\n",
       "      <td>4.754224</td>\n",
       "      <td>3.768412</td>\n",
       "      <td>3.685590</td>\n",
       "      <td>4.568969</td>\n",
       "      <td>3.628977</td>\n",
       "      <td>4.756662</td>\n",
       "      <td>4.702487</td>\n",
       "    </tr>\n",
       "    <tr>\n",
       "      <th>4</th>\n",
       "      <td>4.390311</td>\n",
       "      <td>4.424945</td>\n",
       "      <td>4.451749</td>\n",
       "      <td>4.295276</td>\n",
       "      <td>4.074946</td>\n",
       "      <td>4.188318</td>\n",
       "      <td>4.429552</td>\n",
       "      <td>4.327199</td>\n",
       "    </tr>\n",
       "  </tbody>\n",
       "</table>\n",
       "</div>"
      ],
      "text/plain": [
       "   hedonic_1  hedonic 2  hedonic_3  hedonic 4  functional_1  functional_2  \\\n",
       "0   4.704604   3.697246   4.691550   4.724796      4.771609      3.747521   \n",
       "1   4.554236   4.543131   4.534537   4.584706      4.655349      3.618999   \n",
       "2   4.784478   4.804020   3.819144   3.730855      5.606534      4.670504   \n",
       "3   4.735892   4.754224   3.768412   3.685590      4.568969      3.628977   \n",
       "4   4.390311   4.424945   4.451749   4.295276      4.074946      4.188318   \n",
       "\n",
       "   functional_3  functional_4  \n",
       "0      3.696267      4.718013  \n",
       "1      4.541654      3.574471  \n",
       "2      3.806619      3.748867  \n",
       "3      4.756662      4.702487  \n",
       "4      4.429552      4.327199  "
      ]
     },
     "execution_count": 132,
     "metadata": {},
     "output_type": "execute_result"
    }
   ],
   "source": [
    "dehalo.head()"
   ]
  },
  {
   "cell_type": "code",
   "execution_count": 171,
   "metadata": {
    "collapsed": false
   },
   "outputs": [
    {
     "name": "stdout",
     "output_type": "stream",
     "text": [
      "2.34375113333 \n",
      "\n",
      "[0.29, 0.196, 0.143, 0.116, 0.108, 0.095, 0.053, 0.0]\n"
     ]
    }
   ],
   "source": [
    "pca = PCA(n_components=8)\n",
    "\n",
    "pca_dehalo = pca.fit(dehalo)\n",
    "\n",
    "print pca_dehalo.explained_variance_.sum(),'\\n'\n",
    "\n",
    "print map(float,map(lambda n: \"%.3f\" % n, pca_dehalo.explained_variance_ratio_))"
   ]
  },
  {
   "cell_type": "markdown",
   "metadata": {},
   "source": [
    "### Standardized"
   ]
  },
  {
   "cell_type": "code",
   "execution_count": 134,
   "metadata": {
    "collapsed": true
   },
   "outputs": [],
   "source": [
    "df_combined2 = (df_combined - df_combined.mean())/df_combined.std()"
   ]
  },
  {
   "cell_type": "code",
   "execution_count": 135,
   "metadata": {
    "collapsed": false
   },
   "outputs": [
    {
     "data": {
      "text/html": [
       "<div>\n",
       "<table border=\"1\" class=\"dataframe\">\n",
       "  <thead>\n",
       "    <tr style=\"text-align: right;\">\n",
       "      <th></th>\n",
       "      <th>hedonic_1</th>\n",
       "      <th>hedonic 2</th>\n",
       "      <th>hedonic_3</th>\n",
       "      <th>hedonic 4</th>\n",
       "      <th>functional_1</th>\n",
       "      <th>functional_2</th>\n",
       "      <th>functional_3</th>\n",
       "      <th>functional_4</th>\n",
       "    </tr>\n",
       "  </thead>\n",
       "  <tbody>\n",
       "    <tr>\n",
       "      <th>0</th>\n",
       "      <td>0.784094</td>\n",
       "      <td>-0.294047</td>\n",
       "      <td>0.867884</td>\n",
       "      <td>0.760208</td>\n",
       "      <td>0.500622</td>\n",
       "      <td>-0.432599</td>\n",
       "      <td>-0.280216</td>\n",
       "      <td>0.757813</td>\n",
       "    </tr>\n",
       "    <tr>\n",
       "      <th>1</th>\n",
       "      <td>0.784094</td>\n",
       "      <td>0.818219</td>\n",
       "      <td>0.867884</td>\n",
       "      <td>0.760208</td>\n",
       "      <td>0.500622</td>\n",
       "      <td>-0.432599</td>\n",
       "      <td>0.803287</td>\n",
       "      <td>-0.398849</td>\n",
       "    </tr>\n",
       "    <tr>\n",
       "      <th>2</th>\n",
       "      <td>-0.362396</td>\n",
       "      <td>-0.294047</td>\n",
       "      <td>-1.369327</td>\n",
       "      <td>-1.712243</td>\n",
       "      <td>0.500622</td>\n",
       "      <td>-0.432599</td>\n",
       "      <td>-1.363720</td>\n",
       "      <td>-1.555511</td>\n",
       "    </tr>\n",
       "    <tr>\n",
       "      <th>3</th>\n",
       "      <td>-0.362396</td>\n",
       "      <td>-0.294047</td>\n",
       "      <td>-1.369327</td>\n",
       "      <td>-1.712243</td>\n",
       "      <td>-0.780382</td>\n",
       "      <td>-1.666571</td>\n",
       "      <td>-0.280216</td>\n",
       "      <td>-0.398849</td>\n",
       "    </tr>\n",
       "    <tr>\n",
       "      <th>4</th>\n",
       "      <td>-1.508887</td>\n",
       "      <td>-1.406314</td>\n",
       "      <td>-1.369327</td>\n",
       "      <td>-1.712243</td>\n",
       "      <td>-2.061387</td>\n",
       "      <td>-1.666571</td>\n",
       "      <td>-1.363720</td>\n",
       "      <td>-1.555511</td>\n",
       "    </tr>\n",
       "  </tbody>\n",
       "</table>\n",
       "</div>"
      ],
      "text/plain": [
       "   hedonic_1  hedonic 2  hedonic_3  hedonic 4  functional_1  functional_2  \\\n",
       "0   0.784094  -0.294047   0.867884   0.760208      0.500622     -0.432599   \n",
       "1   0.784094   0.818219   0.867884   0.760208      0.500622     -0.432599   \n",
       "2  -0.362396  -0.294047  -1.369327  -1.712243      0.500622     -0.432599   \n",
       "3  -0.362396  -0.294047  -1.369327  -1.712243     -0.780382     -1.666571   \n",
       "4  -1.508887  -1.406314  -1.369327  -1.712243     -2.061387     -1.666571   \n",
       "\n",
       "   functional_3  functional_4  \n",
       "0     -0.280216      0.757813  \n",
       "1      0.803287     -0.398849  \n",
       "2     -1.363720     -1.555511  \n",
       "3     -0.280216     -0.398849  \n",
       "4     -1.363720     -1.555511  "
      ]
     },
     "execution_count": 135,
     "metadata": {},
     "output_type": "execute_result"
    }
   ],
   "source": [
    "df_combined2.head()"
   ]
  },
  {
   "cell_type": "code",
   "execution_count": 167,
   "metadata": {
    "collapsed": false
   },
   "outputs": [
    {
     "name": "stdout",
     "output_type": "stream",
     "text": [
      "7.95402298851 \n",
      "\n",
      "[0.596, 0.117, 0.079, 0.061, 0.045, 0.042, 0.039, 0.022]\n"
     ]
    }
   ],
   "source": [
    "from sklearn.decomposition import PCA\n",
    "\n",
    "pca = PCA(n_components=8)\n",
    "\n",
    "pca_combined2 = pca.fit(df_combined2)\n",
    "\n",
    "print pca_combined2.explained_variance_.sum(),'\\n'\n",
    "print map(float,map(lambda n: \"%.3f\" % n, pca_combined2.explained_variance_ratio_))"
   ]
  },
  {
   "cell_type": "code",
   "execution_count": 137,
   "metadata": {
    "collapsed": false
   },
   "outputs": [],
   "source": [
    "score2 = [item[0] for item in pca_combined2.fit_transform(df_combined2)]"
   ]
  },
  {
   "cell_type": "code",
   "execution_count": 138,
   "metadata": {
    "collapsed": false
   },
   "outputs": [],
   "source": [
    "dehalo2 = df_combined2 - (score2 * pca_combined2.components_[0].reshape(8,1)).T"
   ]
  },
  {
   "cell_type": "code",
   "execution_count": 139,
   "metadata": {
    "collapsed": false
   },
   "outputs": [
    {
     "data": {
      "text/html": [
       "<div>\n",
       "<table border=\"1\" class=\"dataframe\">\n",
       "  <thead>\n",
       "    <tr style=\"text-align: right;\">\n",
       "      <th></th>\n",
       "      <th>hedonic_1</th>\n",
       "      <th>hedonic 2</th>\n",
       "      <th>hedonic_3</th>\n",
       "      <th>hedonic 4</th>\n",
       "      <th>functional_1</th>\n",
       "      <th>functional_2</th>\n",
       "      <th>functional_3</th>\n",
       "      <th>functional_4</th>\n",
       "    </tr>\n",
       "  </thead>\n",
       "  <tbody>\n",
       "    <tr>\n",
       "      <th>0</th>\n",
       "      <td>0.435442</td>\n",
       "      <td>-0.639127</td>\n",
       "      <td>0.514174</td>\n",
       "      <td>0.406616</td>\n",
       "      <td>0.191463</td>\n",
       "      <td>-0.759883</td>\n",
       "      <td>-0.618528</td>\n",
       "      <td>0.420406</td>\n",
       "    </tr>\n",
       "    <tr>\n",
       "      <th>1</th>\n",
       "      <td>0.299230</td>\n",
       "      <td>0.338323</td>\n",
       "      <td>0.375986</td>\n",
       "      <td>0.268475</td>\n",
       "      <td>0.070680</td>\n",
       "      <td>-0.887746</td>\n",
       "      <td>0.332803</td>\n",
       "      <td>-0.868074</td>\n",
       "    </tr>\n",
       "    <tr>\n",
       "      <th>2</th>\n",
       "      <td>0.504011</td>\n",
       "      <td>0.563483</td>\n",
       "      <td>-0.490351</td>\n",
       "      <td>-0.833563</td>\n",
       "      <td>1.268890</td>\n",
       "      <td>0.380706</td>\n",
       "      <td>-0.523008</td>\n",
       "      <td>-0.717049</td>\n",
       "    </tr>\n",
       "    <tr>\n",
       "      <th>3</th>\n",
       "      <td>0.520300</td>\n",
       "      <td>0.579605</td>\n",
       "      <td>-0.473826</td>\n",
       "      <td>-0.817042</td>\n",
       "      <td>0.002330</td>\n",
       "      <td>-0.837975</td>\n",
       "      <td>0.576301</td>\n",
       "      <td>0.455377</td>\n",
       "    </tr>\n",
       "    <tr>\n",
       "      <th>4</th>\n",
       "      <td>0.106242</td>\n",
       "      <td>0.192268</td>\n",
       "      <td>0.269233</td>\n",
       "      <td>-0.074234</td>\n",
       "      <td>-0.629205</td>\n",
       "      <td>-0.150433</td>\n",
       "      <td>0.203508</td>\n",
       "      <td>0.007524</td>\n",
       "    </tr>\n",
       "  </tbody>\n",
       "</table>\n",
       "</div>"
      ],
      "text/plain": [
       "   hedonic_1  hedonic 2  hedonic_3  hedonic 4  functional_1  functional_2  \\\n",
       "0   0.435442  -0.639127   0.514174   0.406616      0.191463     -0.759883   \n",
       "1   0.299230   0.338323   0.375986   0.268475      0.070680     -0.887746   \n",
       "2   0.504011   0.563483  -0.490351  -0.833563      1.268890      0.380706   \n",
       "3   0.520300   0.579605  -0.473826  -0.817042      0.002330     -0.837975   \n",
       "4   0.106242   0.192268   0.269233  -0.074234     -0.629205     -0.150433   \n",
       "\n",
       "   functional_3  functional_4  \n",
       "0     -0.618528      0.420406  \n",
       "1      0.332803     -0.868074  \n",
       "2     -0.523008     -0.717049  \n",
       "3      0.576301      0.455377  \n",
       "4      0.203508      0.007524  "
      ]
     },
     "execution_count": 139,
     "metadata": {},
     "output_type": "execute_result"
    }
   ],
   "source": [
    "dehalo2.head()"
   ]
  },
  {
   "cell_type": "code",
   "execution_count": 168,
   "metadata": {
    "collapsed": false
   },
   "outputs": [
    {
     "name": "stdout",
     "output_type": "stream",
     "text": [
      "3.21219276829\n",
      "[0.288, 0.196, 0.15, 0.112, 0.104, 0.096, 0.053, 0.0]\n"
     ]
    }
   ],
   "source": [
    "pca = PCA(n_components=8)\n",
    "\n",
    "pca_dehalo2 = pca.fit(dehalo2)\n",
    "\n",
    "print pca_dehalo2.explained_variance_.sum()\n",
    "print map(float,map(lambda n: \"%.3f\" % n, pca_dehalo2.explained_variance_ratio_))"
   ]
  }
 ],
 "metadata": {
  "kernelspec": {
   "display_name": "Python 2",
   "language": "python",
   "name": "python2"
  },
  "language_info": {
   "codemirror_mode": {
    "name": "ipython",
    "version": 2
   },
   "file_extension": ".py",
   "mimetype": "text/x-python",
   "name": "python",
   "nbconvert_exporter": "python",
   "pygments_lexer": "ipython2",
   "version": "2.7.11"
  }
 },
 "nbformat": 4,
 "nbformat_minor": 1
}
