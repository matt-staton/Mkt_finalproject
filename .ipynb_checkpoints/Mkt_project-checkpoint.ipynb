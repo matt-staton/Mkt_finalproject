{
 "cells": [
  {
   "cell_type": "code",
   "execution_count": 30,
   "metadata": {
    "collapsed": true
   },
   "outputs": [],
   "source": [
    "import pandas as pd"
   ]
  },
  {
   "cell_type": "code",
   "execution_count": 31,
   "metadata": {
    "collapsed": false
   },
   "outputs": [],
   "source": [
    "data = pd.read_excel('classproject.xlsx')"
   ]
  },
  {
   "cell_type": "code",
   "execution_count": 32,
   "metadata": {
    "collapsed": false
   },
   "outputs": [],
   "source": [
    "data.drop('respid',axis=1,inplace=True)"
   ]
  },
  {
   "cell_type": "code",
   "execution_count": 33,
   "metadata": {
    "collapsed": false
   },
   "outputs": [],
   "source": [
    "data = data.apply(pd.to_numeric)"
   ]
  },
  {
   "cell_type": "code",
   "execution_count": 34,
   "metadata": {
    "collapsed": false
   },
   "outputs": [
    {
     "data": {
      "text/plain": [
       "Index([u'brand', u'affect_1', u'affect_2', u'affect_3', u'hedonic_1',\n",
       "       u'hedonic 2', u'hedonic_3', u'hedonic 4', u'functional_1',\n",
       "       u'functional_2', u'functional_3', u'functional_4'],\n",
       "      dtype='object')"
      ]
     },
     "execution_count": 34,
     "metadata": {},
     "output_type": "execute_result"
    }
   ],
   "source": [
    "data.columns"
   ]
  },
  {
   "cell_type": "code",
   "execution_count": 35,
   "metadata": {
    "collapsed": true
   },
   "outputs": [],
   "source": [
    "df_hedonic = data[['hedonic_1','hedonic 2','hedonic_3','hedonic 4']]"
   ]
  },
  {
   "cell_type": "code",
   "execution_count": 36,
   "metadata": {
    "collapsed": true
   },
   "outputs": [],
   "source": [
    "df_functional = data[['functional_1','functional_2','functional_3','functional_4']]"
   ]
  },
  {
   "cell_type": "code",
   "execution_count": 37,
   "metadata": {
    "collapsed": true
   },
   "outputs": [],
   "source": [
    "df_combined = data[['hedonic_1','hedonic 2','hedonic_3','hedonic 4','functional_1','functional_2','functional_3','functional_4']]"
   ]
  },
  {
   "cell_type": "code",
   "execution_count": 38,
   "metadata": {
    "collapsed": true
   },
   "outputs": [],
   "source": [
    "df_affect =  data[['affect_1','affect_2','affect_3']]"
   ]
  },
  {
   "cell_type": "markdown",
   "metadata": {},
   "source": [
    "## Code that needs to be figured out"
   ]
  },
  {
   "cell_type": "code",
   "execution_count": 39,
   "metadata": {
    "collapsed": false
   },
   "outputs": [],
   "source": [
    "import numpy as np\n",
    "from sklearn.decomposition import PCA"
   ]
  },
  {
   "cell_type": "code",
   "execution_count": 40,
   "metadata": {
    "collapsed": false
   },
   "outputs": [],
   "source": [
    "from sklearn.preprocessing import StandardScaler\n",
    "sc = StandardScaler()"
   ]
  },
  {
   "cell_type": "code",
   "execution_count": 41,
   "metadata": {
    "collapsed": false
   },
   "outputs": [],
   "source": [
    "df_combined = pd.DataFrame(sc.fit_transform(df_combined))"
   ]
  },
  {
   "cell_type": "code",
   "execution_count": 42,
   "metadata": {
    "collapsed": false
   },
   "outputs": [
    {
     "data": {
      "text/plain": [
       "array([ 0.59615496,  0.11650877,  0.07910444,  0.0607089 ,  0.04521263,\n",
       "        0.0420716 ,  0.03870675,  0.02153196])"
      ]
     },
     "execution_count": 42,
     "metadata": {},
     "output_type": "execute_result"
    }
   ],
   "source": [
    "pca = PCA(n_components=8) #Just removed the tolerance param  pca = PCA(n_components=8,tol=1)\n",
    "\n",
    "pca_combined = pca.fit(df_combined)  #Would fit_transform help?\n",
    "\n",
    "pca_combined.explained_variance_ratio_"
   ]
  },
  {
   "cell_type": "markdown",
   "metadata": {},
   "source": [
    "## From sklearn\n",
    "\n",
    "Methods\n",
    "fit(X[, y])\t                Fit the model with X.   \n",
    "fit_transform(X[, y])\t    Fit the model with X and apply the dimensionality reduction on X.   \n",
    "get_covariance()\t        Compute data covariance with the generative model.   \n",
    "get_params([deep])\t        Get parameters for this estimator.   \n",
    "get_precision()\t            Compute data precision matrix with the generative model.   \n",
    "inverse_transform(X[, y])\tTransform data back to its original space.   \n",
    "score(X[, y])\t            Return the average log-likelihood of all samples.   \n",
    "score_samples(X)\t        Return the log-likelihood of each sample.   \n",
    "set_params(**params)\t    Set the parameters of this estimator.    \n",
    "transform(X[, y])\t        Apply dimensionality reduction to X.   "
   ]
  },
  {
   "cell_type": "code",
   "execution_count": 43,
   "metadata": {
    "collapsed": false
   },
   "outputs": [
    {
     "data": {
      "text/html": [
       "<div>\n",
       "<table border=\"1\" class=\"dataframe\">\n",
       "  <thead>\n",
       "    <tr style=\"text-align: right;\">\n",
       "      <th></th>\n",
       "      <th>0</th>\n",
       "      <th>1</th>\n",
       "      <th>2</th>\n",
       "      <th>3</th>\n",
       "      <th>4</th>\n",
       "      <th>5</th>\n",
       "      <th>6</th>\n",
       "      <th>7</th>\n",
       "    </tr>\n",
       "  </thead>\n",
       "  <tbody>\n",
       "    <tr>\n",
       "      <th>0</th>\n",
       "      <td>0.786357</td>\n",
       "      <td>-0.294896</td>\n",
       "      <td>0.870388</td>\n",
       "      <td>0.762401</td>\n",
       "      <td>0.502067</td>\n",
       "      <td>-0.433848</td>\n",
       "      <td>-0.281025</td>\n",
       "      <td>0.76</td>\n",
       "    </tr>\n",
       "    <tr>\n",
       "      <th>1</th>\n",
       "      <td>0.786357</td>\n",
       "      <td>0.820580</td>\n",
       "      <td>0.870388</td>\n",
       "      <td>0.762401</td>\n",
       "      <td>0.502067</td>\n",
       "      <td>-0.433848</td>\n",
       "      <td>0.805605</td>\n",
       "      <td>-0.40</td>\n",
       "    </tr>\n",
       "    <tr>\n",
       "      <th>2</th>\n",
       "      <td>-0.363442</td>\n",
       "      <td>-0.294896</td>\n",
       "      <td>-1.373279</td>\n",
       "      <td>-1.717185</td>\n",
       "      <td>0.502067</td>\n",
       "      <td>-0.433848</td>\n",
       "      <td>-1.367655</td>\n",
       "      <td>-1.56</td>\n",
       "    </tr>\n",
       "    <tr>\n",
       "      <th>3</th>\n",
       "      <td>-0.363442</td>\n",
       "      <td>-0.294896</td>\n",
       "      <td>-1.373279</td>\n",
       "      <td>-1.717185</td>\n",
       "      <td>-0.782634</td>\n",
       "      <td>-1.671381</td>\n",
       "      <td>-0.281025</td>\n",
       "      <td>-0.40</td>\n",
       "    </tr>\n",
       "    <tr>\n",
       "      <th>4</th>\n",
       "      <td>-1.513242</td>\n",
       "      <td>-1.410372</td>\n",
       "      <td>-1.373279</td>\n",
       "      <td>-1.717185</td>\n",
       "      <td>-2.067336</td>\n",
       "      <td>-1.671381</td>\n",
       "      <td>-1.367655</td>\n",
       "      <td>-1.56</td>\n",
       "    </tr>\n",
       "  </tbody>\n",
       "</table>\n",
       "</div>"
      ],
      "text/plain": [
       "          0         1         2         3         4         5         6     7\n",
       "0  0.786357 -0.294896  0.870388  0.762401  0.502067 -0.433848 -0.281025  0.76\n",
       "1  0.786357  0.820580  0.870388  0.762401  0.502067 -0.433848  0.805605 -0.40\n",
       "2 -0.363442 -0.294896 -1.373279 -1.717185  0.502067 -0.433848 -1.367655 -1.56\n",
       "3 -0.363442 -0.294896 -1.373279 -1.717185 -0.782634 -1.671381 -0.281025 -0.40\n",
       "4 -1.513242 -1.410372 -1.373279 -1.717185 -2.067336 -1.671381 -1.367655 -1.56"
      ]
     },
     "execution_count": 43,
     "metadata": {},
     "output_type": "execute_result"
    }
   ],
   "source": [
    "df_combined.head()"
   ]
  },
  {
   "cell_type": "code",
   "execution_count": 44,
   "metadata": {
    "collapsed": false
   },
   "outputs": [
    {
     "name": "stdout",
     "output_type": "stream",
     "text": [
      "[[-0.36314613 -0.35942556 -0.36841428 -0.36829045 -0.3220121  -0.34088894\n",
      "  -0.35237595 -0.35143327]\n",
      " [ 0.2052111   0.21819715  0.48160105  0.32626094 -0.5789568  -0.15693986\n",
      "  -0.427893   -0.17023256]\n",
      " [-0.26541254 -0.46743648  0.1066243   0.36738791 -0.22450124 -0.36344063\n",
      "   0.24586954  0.56725213]\n",
      " [ 0.45948161  0.2561019  -0.15247523 -0.12403295  0.18351578 -0.79785009\n",
      "   0.10962229  0.04894635]\n",
      " [-0.42139301  0.03885771  0.23004014  0.41450029  0.376226   -0.25892533\n",
      "   0.21154968 -0.58553178]\n",
      " [-0.51690014  0.63306459  0.09900167 -0.32660661 -0.29801385 -0.07922402\n",
      "   0.30045628  0.17380329]\n",
      " [-0.31184722  0.27471314 -0.15754937  0.21371111  0.39293887 -0.07423695\n",
      "  -0.67663068  0.37289222]\n",
      " [ 0.04939237  0.24773016 -0.71426347  0.53235616 -0.30377488  0.10807801\n",
      "   0.16557046 -0.10602434]]\n"
     ]
    }
   ],
   "source": [
    "print pca_combined.components_"
   ]
  },
  {
   "cell_type": "code",
   "execution_count": 45,
   "metadata": {
    "collapsed": false
   },
   "outputs": [
    {
     "name": "stdout",
     "output_type": "stream",
     "text": [
      "(8L, 8L)\n"
     ]
    }
   ],
   "source": [
    "print pca_combined.components_.shape"
   ]
  },
  {
   "cell_type": "code",
   "execution_count": 46,
   "metadata": {
    "collapsed": false
   },
   "outputs": [
    {
     "data": {
      "text/plain": [
       "array([-0.36314613, -0.35942556, -0.36841428, -0.36829045, -0.3220121 ,\n",
       "       -0.34088894, -0.35237595, -0.35143327])"
      ]
     },
     "execution_count": 46,
     "metadata": {},
     "output_type": "execute_result"
    }
   ],
   "source": [
    "pca_combined.components_[0]"
   ]
  },
  {
   "cell_type": "code",
   "execution_count": 47,
   "metadata": {
    "collapsed": false
   },
   "outputs": [
    {
     "data": {
      "text/html": [
       "<div>\n",
       "<table border=\"1\" class=\"dataframe\">\n",
       "  <thead>\n",
       "    <tr style=\"text-align: right;\">\n",
       "      <th></th>\n",
       "      <th>0</th>\n",
       "      <th>1</th>\n",
       "      <th>2</th>\n",
       "      <th>3</th>\n",
       "      <th>4</th>\n",
       "      <th>5</th>\n",
       "      <th>6</th>\n",
       "      <th>7</th>\n",
       "    </tr>\n",
       "  </thead>\n",
       "  <tbody>\n",
       "    <tr>\n",
       "      <th>0</th>\n",
       "      <td>0.786357</td>\n",
       "      <td>-0.294896</td>\n",
       "      <td>0.870388</td>\n",
       "      <td>0.762401</td>\n",
       "      <td>0.502067</td>\n",
       "      <td>-0.433848</td>\n",
       "      <td>-0.281025</td>\n",
       "      <td>0.76</td>\n",
       "    </tr>\n",
       "    <tr>\n",
       "      <th>1</th>\n",
       "      <td>0.786357</td>\n",
       "      <td>0.820580</td>\n",
       "      <td>0.870388</td>\n",
       "      <td>0.762401</td>\n",
       "      <td>0.502067</td>\n",
       "      <td>-0.433848</td>\n",
       "      <td>0.805605</td>\n",
       "      <td>-0.40</td>\n",
       "    </tr>\n",
       "    <tr>\n",
       "      <th>2</th>\n",
       "      <td>-0.363442</td>\n",
       "      <td>-0.294896</td>\n",
       "      <td>-1.373279</td>\n",
       "      <td>-1.717185</td>\n",
       "      <td>0.502067</td>\n",
       "      <td>-0.433848</td>\n",
       "      <td>-1.367655</td>\n",
       "      <td>-1.56</td>\n",
       "    </tr>\n",
       "    <tr>\n",
       "      <th>3</th>\n",
       "      <td>-0.363442</td>\n",
       "      <td>-0.294896</td>\n",
       "      <td>-1.373279</td>\n",
       "      <td>-1.717185</td>\n",
       "      <td>-0.782634</td>\n",
       "      <td>-1.671381</td>\n",
       "      <td>-0.281025</td>\n",
       "      <td>-0.40</td>\n",
       "    </tr>\n",
       "    <tr>\n",
       "      <th>4</th>\n",
       "      <td>-1.513242</td>\n",
       "      <td>-1.410372</td>\n",
       "      <td>-1.373279</td>\n",
       "      <td>-1.717185</td>\n",
       "      <td>-2.067336</td>\n",
       "      <td>-1.671381</td>\n",
       "      <td>-1.367655</td>\n",
       "      <td>-1.56</td>\n",
       "    </tr>\n",
       "  </tbody>\n",
       "</table>\n",
       "</div>"
      ],
      "text/plain": [
       "          0         1         2         3         4         5         6     7\n",
       "0  0.786357 -0.294896  0.870388  0.762401  0.502067 -0.433848 -0.281025  0.76\n",
       "1  0.786357  0.820580  0.870388  0.762401  0.502067 -0.433848  0.805605 -0.40\n",
       "2 -0.363442 -0.294896 -1.373279 -1.717185  0.502067 -0.433848 -1.367655 -1.56\n",
       "3 -0.363442 -0.294896 -1.373279 -1.717185 -0.782634 -1.671381 -0.281025 -0.40\n",
       "4 -1.513242 -1.410372 -1.373279 -1.717185 -2.067336 -1.671381 -1.367655 -1.56"
      ]
     },
     "execution_count": 47,
     "metadata": {},
     "output_type": "execute_result"
    }
   ],
   "source": [
    "df_combined.head()"
   ]
  },
  {
   "cell_type": "code",
   "execution_count": 48,
   "metadata": {
    "collapsed": false
   },
   "outputs": [],
   "source": [
    "dehalo = df_combined - df_combined * pca_combined.components_[0]"
   ]
  },
  {
   "cell_type": "code",
   "execution_count": 49,
   "metadata": {
    "collapsed": false
   },
   "outputs": [
    {
     "name": "stdout",
     "output_type": "stream",
     "text": [
      "          0         1         2         3         4         5         6  \\\n",
      "0 -0.285562  0.105993 -0.320663 -0.280785 -0.161672  0.147894  0.099026   \n",
      "1 -0.285562 -0.294938 -0.320663 -0.280785 -0.161672  0.147894 -0.283876   \n",
      "2  0.131983  0.105993  0.505936  0.632423 -0.161672  0.147894  0.481929   \n",
      "3  0.131983  0.105993  0.505936  0.632423  0.252018  0.569755  0.099026   \n",
      "4  0.549528  0.506924  0.505936  0.632423  0.665707  0.569755  0.481929   \n",
      "\n",
      "          7  \n",
      "0 -0.267089  \n",
      "1  0.140573  \n",
      "2  0.548236  \n",
      "3  0.140573  \n",
      "4  0.548236  \n"
     ]
    }
   ],
   "source": [
    "temp = df_combined * pca_combined.components_[0]\n",
    "print temp.head()"
   ]
  },
  {
   "cell_type": "code",
   "execution_count": 50,
   "metadata": {
    "collapsed": false
   },
   "outputs": [
    {
     "name": "stdout",
     "output_type": "stream",
     "text": [
      "                  0             1             2             3             4  \\\n",
      "count  1.740000e+02  1.740000e+02  1.740000e+02  1.740000e+02  1.740000e+02   \n",
      "mean   9.507082e-17 -6.380592e-18  1.486678e-16 -5.104474e-17  8.932829e-17   \n",
      "std    3.641942e-01  3.604629e-01  3.694775e-01  3.693533e-01  3.229414e-01   \n",
      "min   -2.855625e-01 -2.949375e-01 -3.206635e-01 -2.807852e-01 -1.616717e-01   \n",
      "25%   -2.855625e-01 -2.949375e-01 -3.206635e-01 -2.807852e-01 -1.616717e-01   \n",
      "50%   -2.855625e-01 -9.447217e-02  9.263611e-02 -2.807852e-01 -1.616717e-01   \n",
      "75%    1.319827e-01  1.059932e-01  9.263611e-02  1.758188e-01  2.520177e-01   \n",
      "max    1.384618e+00  1.308785e+00  1.332535e+00  1.545631e+00  1.493086e+00   \n",
      "\n",
      "                  5             6             7  \n",
      "count  1.740000e+02  1.740000e+02  1.740000e+02  \n",
      "mean   4.370706e-17  6.587961e-17  8.486187e-17  \n",
      "std    3.418727e-01  3.533929e-01  3.524475e-01  \n",
      "min   -2.739675e-01 -2.838759e-01 -2.670893e-01  \n",
      "25%   -2.739675e-01 -2.838759e-01 -2.670893e-01  \n",
      "50%   -2.739675e-01 -9.242470e-02 -2.670893e-01  \n",
      "75%    1.478939e-01  9.902647e-02  1.405733e-01  \n",
      "max    1.413478e+00  1.247734e+00  1.363561e+00  \n"
     ]
    }
   ],
   "source": [
    "print temp.describe()"
   ]
  },
  {
   "cell_type": "code",
   "execution_count": 51,
   "metadata": {
    "collapsed": false
   },
   "outputs": [
    {
     "data": {
      "text/html": [
       "<div>\n",
       "<table border=\"1\" class=\"dataframe\">\n",
       "  <thead>\n",
       "    <tr style=\"text-align: right;\">\n",
       "      <th></th>\n",
       "      <th>0</th>\n",
       "      <th>1</th>\n",
       "      <th>2</th>\n",
       "      <th>3</th>\n",
       "      <th>4</th>\n",
       "      <th>5</th>\n",
       "      <th>6</th>\n",
       "      <th>7</th>\n",
       "    </tr>\n",
       "  </thead>\n",
       "  <tbody>\n",
       "    <tr>\n",
       "      <th>0</th>\n",
       "      <td>1.071919</td>\n",
       "      <td>-0.400889</td>\n",
       "      <td>1.191052</td>\n",
       "      <td>1.043187</td>\n",
       "      <td>0.663739</td>\n",
       "      <td>-0.581742</td>\n",
       "      <td>-0.380052</td>\n",
       "      <td>1.027089</td>\n",
       "    </tr>\n",
       "    <tr>\n",
       "      <th>1</th>\n",
       "      <td>1.071919</td>\n",
       "      <td>1.115518</td>\n",
       "      <td>1.191052</td>\n",
       "      <td>1.043187</td>\n",
       "      <td>0.663739</td>\n",
       "      <td>-0.581742</td>\n",
       "      <td>1.089481</td>\n",
       "      <td>-0.540573</td>\n",
       "    </tr>\n",
       "    <tr>\n",
       "      <th>2</th>\n",
       "      <td>-0.495425</td>\n",
       "      <td>-0.400889</td>\n",
       "      <td>-1.879215</td>\n",
       "      <td>-2.349607</td>\n",
       "      <td>0.663739</td>\n",
       "      <td>-0.581742</td>\n",
       "      <td>-1.849584</td>\n",
       "      <td>-2.108236</td>\n",
       "    </tr>\n",
       "    <tr>\n",
       "      <th>3</th>\n",
       "      <td>-0.495425</td>\n",
       "      <td>-0.400889</td>\n",
       "      <td>-1.879215</td>\n",
       "      <td>-2.349607</td>\n",
       "      <td>-1.034652</td>\n",
       "      <td>-2.241137</td>\n",
       "      <td>-0.380052</td>\n",
       "      <td>-0.540573</td>\n",
       "    </tr>\n",
       "    <tr>\n",
       "      <th>4</th>\n",
       "      <td>-2.062769</td>\n",
       "      <td>-1.917296</td>\n",
       "      <td>-1.879215</td>\n",
       "      <td>-2.349607</td>\n",
       "      <td>-2.733043</td>\n",
       "      <td>-2.241137</td>\n",
       "      <td>-1.849584</td>\n",
       "      <td>-2.108236</td>\n",
       "    </tr>\n",
       "  </tbody>\n",
       "</table>\n",
       "</div>"
      ],
      "text/plain": [
       "          0         1         2         3         4         5         6  \\\n",
       "0  1.071919 -0.400889  1.191052  1.043187  0.663739 -0.581742 -0.380052   \n",
       "1  1.071919  1.115518  1.191052  1.043187  0.663739 -0.581742  1.089481   \n",
       "2 -0.495425 -0.400889 -1.879215 -2.349607  0.663739 -0.581742 -1.849584   \n",
       "3 -0.495425 -0.400889 -1.879215 -2.349607 -1.034652 -2.241137 -0.380052   \n",
       "4 -2.062769 -1.917296 -1.879215 -2.349607 -2.733043 -2.241137 -1.849584   \n",
       "\n",
       "          7  \n",
       "0  1.027089  \n",
       "1 -0.540573  \n",
       "2 -2.108236  \n",
       "3 -0.540573  \n",
       "4 -2.108236  "
      ]
     },
     "execution_count": 51,
     "metadata": {},
     "output_type": "execute_result"
    }
   ],
   "source": [
    "dehalo.head()"
   ]
  },
  {
   "cell_type": "code",
   "execution_count": 52,
   "metadata": {
    "collapsed": false
   },
   "outputs": [
    {
     "data": {
      "text/plain": [
       "array([ 0.59725577,  0.11561828,  0.0791692 ])"
      ]
     },
     "execution_count": 52,
     "metadata": {},
     "output_type": "execute_result"
    }
   ],
   "source": [
    "pca_2 = PCA(n_components=3)\n",
    "\n",
    "pca_dehalo = pca_2.fit(dehalo)\n",
    "\n",
    "pca_dehalo.explained_variance_ratio_"
   ]
  }
 ],
 "metadata": {
  "anaconda-cloud": {},
  "kernelspec": {
   "display_name": "Python [Root]",
   "language": "python",
   "name": "Python [Root]"
  },
  "language_info": {
   "codemirror_mode": {
    "name": "ipython",
    "version": 2
   },
   "file_extension": ".py",
   "mimetype": "text/x-python",
   "name": "python",
   "nbconvert_exporter": "python",
   "pygments_lexer": "ipython2",
   "version": "2.7.12"
  }
 },
 "nbformat": 4,
 "nbformat_minor": 1
}
